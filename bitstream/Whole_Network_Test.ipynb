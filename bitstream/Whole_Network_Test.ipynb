{
 "cells": [
  {
   "cell_type": "code",
   "execution_count": 59,
   "metadata": {},
   "outputs": [],
   "source": [
    "from pynq import Overlay\n",
    "from pynq import PL\n",
    "\n",
    "OL = Overlay(\"/home/xilinx/pynq/overlays/WholeNetwork/design_1_wrapper.bit\")\n",
    "# OL.ip_dict"
   ]
  },
  {
   "cell_type": "code",
   "execution_count": 60,
   "metadata": {},
   "outputs": [],
   "source": [
    "dma_in = OL.axi_dma_in\n",
    "dma_out = OL.axi_dma_out\n",
    "network = OL.network_0\n",
    "# help(dma_out)"
   ]
  },
  {
   "cell_type": "code",
   "execution_count": 61,
   "metadata": {},
   "outputs": [],
   "source": [
    "import numpy as np\n",
    "test_data = np.array(\n",
    "    [0,    0,     0,     0,     0,     0,     0,     0,     0,     0,     0,     0,     0,     0,     0,     0,     0,     0,     0,     0,     0,     0,     0,     0,     0,     0,     0,     0,\n",
    "    0,     0,     0,     0,     0,     0,     0,     0,     0,     0,     0,     0,     0,     0,     0,     0,     0,     0,     0,     0,     0,     0,     0,     0,     0,     0,     0,     0,\n",
    "    0,     0,     0,     0,     0,     0,     0,     0,     0,     0,     0,     0,     0,     0,     0,     0,     0,     0,     0,     0,     0,     0,     0,     0,     0,     0,     0,     0,\n",
    "    0,     0,     0,     0,     0,     0,     0,     0,     0,     0,     0,     0,     0,     0,     0,     0,     0,     0,     0,     0,     0,     0,     0,     0,     0,     0,     0,     0,\n",
    "    0,     0,     0,     0,     0,     0,     0,     0,     0,     0,     0,     0,     0,     0,     0,     0,     0,     0,     0,     0,     0,     0,     0,     0,     0,     0,     0,     0,\n",
    "    0,     0,     0,     0,     0,     0,     0,     0,     0,     0,     0,     0,     0,     0,     0,     0,     0,     0,     0,     0,     0,     0,     0,     0,     0,     0,     0,     0,\n",
    "    0,     0,     0,     0,     0,     0,     0,     0,     0,     0,     0,     0,     0,     0,     0,     0,     0,     0,     0,     0,     0,     0,     0,     0,     0,     0,     0,     0,\n",
    "    0,     0,     0,     0,     0,     0,  5396, 11885, 10215,  9701,  3854,  2312,     0,     0,     0,     0,     0,     0,     0,     0,     0,     0,     0,     0,     0,     0,     0,     0,\n",
    "    0,     0,     0,     0,     0,     0, 14262, 16318, 16318, 16318, 16318, 15483, 12720, 12720, 12720, 12720, 12720, 12720, 12720, 12720, 10922,  3340,     0,     0,     0,     0,     0,     0,\n",
    "    0,     0,     0,     0,     0,     0,  4304,  7324,  4625,  7324, 10472, 14584, 16318, 14455, 16318, 16318, 16318, 16061, 14712, 16318, 16318,  8994,     0,     0,     0,     0,     0,     0,\n",
    "    0,     0,     0,     0,     0,     0,     0,     0,     0,     0,     0,  1092,  4240,   899,  4304,  4304,  4304,  3790,  1349, 15162, 16318,  6810,     0,     0,     0,     0,     0,     0,\n",
    "    0,     0,     0,     0,     0,     0,     0,     0,     0,     0,     0,     0,     0,     0,     0,     0,     0,     0,  5332, 16254, 13427,  1156,     0,     0,     0,     0,     0,     0,\n",
    "    0,     0,     0,     0,     0,     0,     0,     0,     0,     0,     0,     0,     0,     0,     0,     0,     0,  1413, 14969, 16383,  5332,     0,     0,     0,     0,     0,     0,     0,\n",
    "    0,     0,     0,     0,     0,     0,     0,     0,     0,     0,     0,     0,     0,     0,     0,     0,     0,  8287, 16318, 15290,  2826,     0,     0,     0,     0,     0,     0,     0,\n",
    "    0,     0,     0,     0,     0,     0,     0,     0,     0,     0,     0,     0,     0,     0,     0,     0,  3790, 15997, 16318,  3983,     0,     0,     0,     0,     0,     0,     0,     0,\n",
    "    0,     0,     0,     0,     0,     0,     0,     0,     0,     0,     0,     0,     0,     0,     0,     0,  8544, 16318, 12014,   321,     0,     0,     0,     0,     0,     0,     0,     0,\n",
    "    0,     0,     0,     0,     0,     0,     0,     0,     0,     0,     0,     0,     0,     0,     0,   578, 13170, 15933,  3726,     0,     0,     0,     0,     0,     0,     0,     0,     0,\n",
    "    0,     0,     0,     0,     0,     0,     0,     0,     0,     0,     0,     0,     0,     0,     0,  8095, 16318, 11692,     0,     0,     0,     0,     0,     0,     0,     0,     0,     0,\n",
    "    0,     0,     0,     0,     0,     0,     0,     0,     0,     0,     0,     0,     0,     0,  4818, 16126, 15419,  3662,     0,     0,     0,     0,     0,     0,     0,     0,     0,     0,\n",
    "    0,     0,     0,     0,     0,     0,     0,     0,     0,     0,     0,     0,     0,  1220, 14198, 16318, 10665,     0,     0,     0,     0,     0,     0,     0,     0,     0,     0,     0,\n",
    "    0,     0,     0,     0,     0,     0,     0,     0,     0,     0,     0,     0,   192, 13042, 16318, 14070,  2248,     0,     0,     0,     0,     0,     0,     0,     0,     0,     0,     0,\n",
    "    0,     0,     0,     0,     0,     0,     0,     0,     0,     0,     0,     0,  2441, 16318, 16318,  4947,     0,     0,     0,     0,     0,     0,     0,     0,     0,     0,     0,     0,\n",
    "    0,     0,     0,     0,     0,     0,     0,     0,     0,     0,     0,  1991, 14391, 16318,  7388,    64,     0,     0,     0,     0,     0,     0,     0,     0,     0,     0,     0,     0,\n",
    "    0,     0,     0,     0,     0,     0,     0,     0,     0,     0,     0,  8544, 16318, 16318,  3340,     0,     0,     0,     0,     0,     0,     0,     0,     0,     0,     0,     0,     0,\n",
    "    0,     0,     0,     0,     0,     0,     0,     0,     0,     0,  3919, 15547, 16318, 16318,  3340,     0,     0,     0,     0,     0,     0,     0,     0,     0,     0,     0,     0,     0,\n",
    "    0,     0,     0,     0,     0,     0,     0,     0,     0,     0,  7773, 16318, 16318, 14070,  2569,     0,     0,     0,     0,     0,     0,     0,     0,     0,     0,     0,     0,     0,\n",
    "    0,     0,     0,     0,     0,     0,     0,     0,     0,     0,  7773, 16318, 13299,  1156,     0,     0,     0,     0,     0,     0,     0,     0,     0,     0,     0,     0,     0,     0,\n",
    "    0,     0,     0,     0,     0,     0,     0,     0,     0,     0,     0,     0,     0,     0,     0,     0,     0,     0,     0,     0,     0,     0,     0,     0,     0,     0,     0,     0], dtype=np.int16)"
   ]
  },
  {
   "cell_type": "code",
   "execution_count": 62,
   "metadata": {},
   "outputs": [
    {
     "name": "stdout",
     "output_type": "stream",
     "text": [
      "0x18059000 0x18057000\n"
     ]
    }
   ],
   "source": [
    "import pynq\n",
    "from pynq import Xlnk\n",
    "\n",
    "xlnk = Xlnk()\n",
    "matrix_in = xlnk.cma_array((1*28*28), dtype=np.int16)\n",
    "matrix_out = xlnk.cma_array((1*28*28), dtype=np.int16)\n",
    "\n",
    "for h in range(28):\n",
    "    for w in range(28):\n",
    "        matrix_in[28 * h + w] = test_data[28 * h + w]\n",
    "\n",
    "for h in range(28):\n",
    "    for w in range(28):\n",
    "        matrix_out[28 * h + w] = 0\n",
    "\n",
    "matrix_in_addr = hex(matrix_in.physical_address)\n",
    "matrix_out_addr = hex(matrix_out.physical_address)\n",
    "print(matrix_in_addr, matrix_out_addr) "
   ]
  },
  {
   "cell_type": "code",
   "execution_count": 63,
   "metadata": {},
   "outputs": [
    {
     "name": "stdout",
     "output_type": "stream",
     "text": [
      "Control Signals 6\n",
      " IP Interrupt Status Register 0\n",
      " DMA_Input 4098\n",
      " DMA_Output 0\n"
     ]
    }
   ],
   "source": [
    "network.write(0x00, 0x01)\n",
    "dma_in.sendchannel.transfer(matrix_in)\n",
    "dma_out.recvchannel.transfer(matrix_out)\n",
    "dma_in.sendchannel.wait()\n",
    "dma_out.recvchannel.wait()\n",
    "print(\"Control Signals\", network.read(0x00))\n",
    "print(\" IP Interrupt Status Register\", network.read(0x0C))\n",
    "print(\" DMA_Input\", dma_in.read(0x04))\n",
    "print(\" DMA_Output\", dma_out.read(0x04))"
   ]
  },
  {
   "cell_type": "markdown",
   "metadata": {},
   "source": [
    "## Address info  \n",
    "\n",
    "    offset : bit   : function\n",
    "    0x00 : Control Signals\n",
    "             bit 0 : ap_start (Read/Write/COH)  \n",
    "             bit 1 : ap_done  (Read/COR)  \n",
    "             bit 2 : ap_idle  (Read)  \n",
    "             bit 7 : auto_restart (Read/Write)  \n",
    "             others: reserved  \n",
    "\n",
    "    0x04 : Global Interrupt Enable Register\n",
    "             bit 0 : Global Interrupt Enable(Read/Write)\n",
    "             others: reserved\n",
    "\n",
    "    0x08 : IP Interrupt Enable Register(Read/Write)\n",
    "             bit 0 : Channel 0 (ap_done)\n",
    "             bit 1 : Channel 1 (ap_ready)\n",
    "             others: reserved\n",
    "\n",
    "    0x0c : IP Interrupt Status Register(Read/Write)\n",
    "             bit 0 : Channel 0 (ap_done)\n",
    "             bit 1 : Channel 1 (ap_ready)\n",
    "             others: reserved\n",
    "\n",
    "    (SC = Self Clear, COR = Clear on Read, TOW = Toggle on Write, COH = Clear on HandShake)\n"
   ]
  },
  {
   "cell_type": "code",
   "execution_count": 64,
   "metadata": {},
   "outputs": [
    {
     "data": {
      "image/png": "[encoded data removed]",
      "text/plain": [
       "<matplotlib.figure.Figure at 0xaeab72f0>"
      ]
     },
     "metadata": {},
     "output_type": "display_data"
    }
   ],
   "source": [
    "import matplotlib.pyplot as plt\n",
    "matrix_in = matrix_in.reshape((28,28))\n",
    "img = plt.imshow(matrix_in)"
   ]
  },
  {
   "cell_type": "code",
   "execution_count": 65,
   "metadata": {},
   "outputs": [
    {
     "data": {
      "image/png": "[encoded data removed]",
      "text/plain": [
       "<matplotlib.figure.Figure at 0xaea52310>"
      ]
     },
     "metadata": {},
     "output_type": "display_data"
    }
   ],
   "source": [
    "matrix_out = matrix_out.reshape(28, 28)\n",
    "img = plt.imshow(matrix_out)"
   ]
  },
  {
   "cell_type": "code",
   "execution_count": 66,
   "metadata": {},
   "outputs": [],
   "source": [
    "matrix_in.freebuffer()\n",
    "# dma_in.stop()\n",
    "\n",
    "matrix_out.freebuffer()\n",
    "# dma_out.stop()"
   ]
  },
  {
   "cell_type": "code",
   "execution_count": null,
   "metadata": {},
   "outputs": [],
   "source": []
  }
 ],
 "metadata": {
  "kernelspec": {
   "display_name": "Python 3",
   "language": "python",
   "name": "python3"
  },
  "language_info": {
   "codemirror_mode": {
    "name": "ipython",
    "version": 3
   },
   "file_extension": ".py",
   "mimetype": "text/x-python",
   "name": "python",
   "nbconvert_exporter": "python",
   "pygments_lexer": "ipython3",
   "version": "3.6.5"
  }
 },
 "nbformat": 4,
 "nbformat_minor": 2
}
